{
 "cells": [
  {
   "cell_type": "code",
   "execution_count": 1,
   "metadata": {},
   "outputs": [],
   "source": [
    "import numpy as np\n",
    "import pandas as pd\n",
    "import statsmodels.api as sm\n",
    "import matplotlib.pyplot as plt\n"
   ]
  },
  {
   "cell_type": "code",
   "execution_count": 2,
   "metadata": {},
   "outputs": [],
   "source": [
    "data = pd.read_csv('Data_Files/06_03/conjoint-py.csv')"
   ]
  },
  {
   "cell_type": "code",
   "execution_count": 3,
   "metadata": {},
   "outputs": [
    {
     "data": {
      "text/html": [
       "<div>\n",
       "<style scoped>\n",
       "    .dataframe tbody tr th:only-of-type {\n",
       "        vertical-align: middle;\n",
       "    }\n",
       "\n",
       "    .dataframe tbody tr th {\n",
       "        vertical-align: top;\n",
       "    }\n",
       "\n",
       "    .dataframe thead th {\n",
       "        text-align: right;\n",
       "    }\n",
       "</style>\n",
       "<table border=\"1\" class=\"dataframe\">\n",
       "  <thead>\n",
       "    <tr style=\"text-align: right;\">\n",
       "      <th></th>\n",
       "      <th>Rank</th>\n",
       "      <th>P1</th>\n",
       "      <th>P2</th>\n",
       "      <th>U1</th>\n",
       "      <th>U2</th>\n",
       "      <th>D1</th>\n",
       "      <th>D2</th>\n",
       "      <th>D3</th>\n",
       "    </tr>\n",
       "  </thead>\n",
       "  <tbody>\n",
       "    <tr>\n",
       "      <th>0</th>\n",
       "      <td>7</td>\n",
       "      <td>1</td>\n",
       "      <td>0</td>\n",
       "      <td>1</td>\n",
       "      <td>0</td>\n",
       "      <td>1</td>\n",
       "      <td>0</td>\n",
       "      <td>0</td>\n",
       "    </tr>\n",
       "    <tr>\n",
       "      <th>1</th>\n",
       "      <td>6</td>\n",
       "      <td>1</td>\n",
       "      <td>0</td>\n",
       "      <td>0</td>\n",
       "      <td>1</td>\n",
       "      <td>1</td>\n",
       "      <td>0</td>\n",
       "      <td>0</td>\n",
       "    </tr>\n",
       "    <tr>\n",
       "      <th>2</th>\n",
       "      <td>8</td>\n",
       "      <td>0</td>\n",
       "      <td>1</td>\n",
       "      <td>1</td>\n",
       "      <td>0</td>\n",
       "      <td>1</td>\n",
       "      <td>0</td>\n",
       "      <td>0</td>\n",
       "    </tr>\n",
       "    <tr>\n",
       "      <th>3</th>\n",
       "      <td>1</td>\n",
       "      <td>0</td>\n",
       "      <td>1</td>\n",
       "      <td>0</td>\n",
       "      <td>1</td>\n",
       "      <td>1</td>\n",
       "      <td>0</td>\n",
       "      <td>0</td>\n",
       "    </tr>\n",
       "    <tr>\n",
       "      <th>4</th>\n",
       "      <td>10</td>\n",
       "      <td>1</td>\n",
       "      <td>0</td>\n",
       "      <td>1</td>\n",
       "      <td>0</td>\n",
       "      <td>0</td>\n",
       "      <td>1</td>\n",
       "      <td>0</td>\n",
       "    </tr>\n",
       "  </tbody>\n",
       "</table>\n",
       "</div>"
      ],
      "text/plain": [
       "   Rank  P1  P2  U1  U2  D1  D2  D3\n",
       "0     7   1   0   1   0   1   0   0\n",
       "1     6   1   0   0   1   1   0   0\n",
       "2     8   0   1   1   0   1   0   0\n",
       "3     1   0   1   0   1   1   0   0\n",
       "4    10   1   0   1   0   0   1   0"
      ]
     },
     "execution_count": 3,
     "metadata": {},
     "output_type": "execute_result"
    }
   ],
   "source": [
    "data.head()"
   ]
  },
  {
   "attachments": {},
   "cell_type": "markdown",
   "metadata": {},
   "source": [
    "This actually shows a bunch of aggregates"
   ]
  },
  {
   "cell_type": "code",
   "execution_count": 5,
   "metadata": {},
   "outputs": [],
   "source": [
    "names = {'Rank':\"Rank\", \n",
    "            \"P1\": \"PhotoF1\", \n",
    "            \"P2\": \"PhotoF2\", \n",
    "            \"U1\": \"Ux1\",\n",
    "            \"U2\": \"Ux2\", \n",
    "            \"D1\": \"SpecialSauce1\", \n",
    "            \"D2\": \"SpecialSauce2\", \n",
    "            \"D3\": \"SpecialSauce3\"\n",
    "            }"
   ]
  },
  {
   "cell_type": "code",
   "execution_count": 7,
   "metadata": {},
   "outputs": [],
   "source": [
    "data.rename(columns = names, inplace=True)"
   ]
  },
  {
   "cell_type": "code",
   "execution_count": 9,
   "metadata": {},
   "outputs": [
    {
     "data": {
      "text/html": [
       "<div>\n",
       "<style scoped>\n",
       "    .dataframe tbody tr th:only-of-type {\n",
       "        vertical-align: middle;\n",
       "    }\n",
       "\n",
       "    .dataframe tbody tr th {\n",
       "        vertical-align: top;\n",
       "    }\n",
       "\n",
       "    .dataframe thead th {\n",
       "        text-align: right;\n",
       "    }\n",
       "</style>\n",
       "<table border=\"1\" class=\"dataframe\">\n",
       "  <thead>\n",
       "    <tr style=\"text-align: right;\">\n",
       "      <th></th>\n",
       "      <th>Rank</th>\n",
       "      <th>PhotoF1</th>\n",
       "      <th>PhotoF2</th>\n",
       "      <th>Ux1</th>\n",
       "      <th>Ux2</th>\n",
       "      <th>SpecialSauce1</th>\n",
       "      <th>SpecialSauce2</th>\n",
       "      <th>SpecialSauce3</th>\n",
       "    </tr>\n",
       "  </thead>\n",
       "  <tbody>\n",
       "    <tr>\n",
       "      <th>0</th>\n",
       "      <td>7</td>\n",
       "      <td>1</td>\n",
       "      <td>0</td>\n",
       "      <td>1</td>\n",
       "      <td>0</td>\n",
       "      <td>1</td>\n",
       "      <td>0</td>\n",
       "      <td>0</td>\n",
       "    </tr>\n",
       "    <tr>\n",
       "      <th>1</th>\n",
       "      <td>6</td>\n",
       "      <td>1</td>\n",
       "      <td>0</td>\n",
       "      <td>0</td>\n",
       "      <td>1</td>\n",
       "      <td>1</td>\n",
       "      <td>0</td>\n",
       "      <td>0</td>\n",
       "    </tr>\n",
       "    <tr>\n",
       "      <th>2</th>\n",
       "      <td>8</td>\n",
       "      <td>0</td>\n",
       "      <td>1</td>\n",
       "      <td>1</td>\n",
       "      <td>0</td>\n",
       "      <td>1</td>\n",
       "      <td>0</td>\n",
       "      <td>0</td>\n",
       "    </tr>\n",
       "    <tr>\n",
       "      <th>3</th>\n",
       "      <td>1</td>\n",
       "      <td>0</td>\n",
       "      <td>1</td>\n",
       "      <td>0</td>\n",
       "      <td>1</td>\n",
       "      <td>1</td>\n",
       "      <td>0</td>\n",
       "      <td>0</td>\n",
       "    </tr>\n",
       "    <tr>\n",
       "      <th>4</th>\n",
       "      <td>10</td>\n",
       "      <td>1</td>\n",
       "      <td>0</td>\n",
       "      <td>1</td>\n",
       "      <td>0</td>\n",
       "      <td>0</td>\n",
       "      <td>1</td>\n",
       "      <td>0</td>\n",
       "    </tr>\n",
       "  </tbody>\n",
       "</table>\n",
       "</div>"
      ],
      "text/plain": [
       "   Rank  PhotoF1  PhotoF2  Ux1  Ux2  SpecialSauce1  SpecialSauce2  \\\n",
       "0     7        1        0    1    0              1              0   \n",
       "1     6        1        0    0    1              1              0   \n",
       "2     8        0        1    1    0              1              0   \n",
       "3     1        0        1    0    1              1              0   \n",
       "4    10        1        0    1    0              0              1   \n",
       "\n",
       "   SpecialSauce3  \n",
       "0              0  \n",
       "1              0  \n",
       "2              0  \n",
       "3              0  \n",
       "4              0  "
      ]
     },
     "execution_count": 9,
     "metadata": {},
     "output_type": "execute_result"
    }
   ],
   "source": [
    "data.head()"
   ]
  },
  {
   "cell_type": "code",
   "execution_count": 10,
   "metadata": {},
   "outputs": [],
   "source": [
    "X = data[['PhotoF1', 'PhotoF2', 'Ux1', 'Ux2', 'SpecialSauce1', 'SpecialSauce2', 'SpecialSauce3']]\n",
    "X = sm.add_constant(X)\n",
    "\n",
    "\n",
    "y = data['Rank']\n",
    "\n",
    "\n",
    "\n"
   ]
  },
  {
   "cell_type": "code",
   "execution_count": 11,
   "metadata": {},
   "outputs": [
    {
     "name": "stderr",
     "output_type": "stream",
     "text": [
      "c:\\Users\\justi\\anaconda3\\envs\\PythonData\\lib\\site-packages\\scipy\\stats\\stats.py:1541: UserWarning: kurtosistest only valid for n>=20 ... continuing anyway, n=12\n",
      "  warnings.warn(\"kurtosistest only valid for n>=20 ... continuing \"\n"
     ]
    },
    {
     "data": {
      "text/html": [
       "<table class=\"simpletable\">\n",
       "<caption>OLS Regression Results</caption>\n",
       "<tr>\n",
       "  <th>Dep. Variable:</th>          <td>Rank</td>       <th>  R-squared:         </th> <td>   0.707</td>\n",
       "</tr>\n",
       "<tr>\n",
       "  <th>Model:</th>                   <td>OLS</td>       <th>  Adj. R-squared:    </th> <td>   0.540</td>\n",
       "</tr>\n",
       "<tr>\n",
       "  <th>Method:</th>             <td>Least Squares</td>  <th>  F-statistic:       </th> <td>   4.232</td>\n",
       "</tr>\n",
       "<tr>\n",
       "  <th>Date:</th>             <td>Fri, 10 Feb 2023</td> <th>  Prob (F-statistic):</th>  <td>0.0471</td> \n",
       "</tr>\n",
       "<tr>\n",
       "  <th>Time:</th>                 <td>11:51:20</td>     <th>  Log-Likelihood:    </th> <td> -24.520</td>\n",
       "</tr>\n",
       "<tr>\n",
       "  <th>No. Observations:</th>      <td>    12</td>      <th>  AIC:               </th> <td>   59.04</td>\n",
       "</tr>\n",
       "<tr>\n",
       "  <th>Df Residuals:</th>          <td>     7</td>      <th>  BIC:               </th> <td>   61.46</td>\n",
       "</tr>\n",
       "<tr>\n",
       "  <th>Df Model:</th>              <td>     4</td>      <th>                     </th>     <td> </td>   \n",
       "</tr>\n",
       "<tr>\n",
       "  <th>Covariance Type:</th>      <td>nonrobust</td>    <th>                     </th>     <td> </td>   \n",
       "</tr>\n",
       "</table>\n",
       "<table class=\"simpletable\">\n",
       "<tr>\n",
       "        <td></td>           <th>coef</th>     <th>std err</th>      <th>t</th>      <th>P>|t|</th>  <th>[0.025</th>    <th>0.975]</th>  \n",
       "</tr>\n",
       "<tr>\n",
       "  <th>const</th>         <td>    2.7857</td> <td>    0.302</td> <td>    9.211</td> <td> 0.000</td> <td>    2.071</td> <td>    3.501</td>\n",
       "</tr>\n",
       "<tr>\n",
       "  <th>PhotoF1</th>       <td>    2.7262</td> <td>    0.722</td> <td>    3.777</td> <td> 0.007</td> <td>    1.020</td> <td>    4.433</td>\n",
       "</tr>\n",
       "<tr>\n",
       "  <th>PhotoF2</th>       <td>    0.0595</td> <td>    0.722</td> <td>    0.082</td> <td> 0.937</td> <td>   -1.647</td> <td>    1.766</td>\n",
       "</tr>\n",
       "<tr>\n",
       "  <th>Ux1</th>           <td>    3.0595</td> <td>    0.722</td> <td>    4.239</td> <td> 0.004</td> <td>    1.353</td> <td>    4.766</td>\n",
       "</tr>\n",
       "<tr>\n",
       "  <th>Ux2</th>           <td>   -0.2738</td> <td>    0.722</td> <td>   -0.379</td> <td> 0.716</td> <td>   -1.980</td> <td>    1.433</td>\n",
       "</tr>\n",
       "<tr>\n",
       "  <th>SpecialSauce1</th> <td>   -0.0714</td> <td>    1.003</td> <td>   -0.071</td> <td> 0.945</td> <td>   -2.443</td> <td>    2.301</td>\n",
       "</tr>\n",
       "<tr>\n",
       "  <th>SpecialSauce2</th> <td>   -0.8214</td> <td>    1.003</td> <td>   -0.819</td> <td> 0.440</td> <td>   -3.193</td> <td>    1.551</td>\n",
       "</tr>\n",
       "<tr>\n",
       "  <th>SpecialSauce3</th> <td>    3.6786</td> <td>    1.003</td> <td>    3.667</td> <td> 0.008</td> <td>    1.307</td> <td>    6.051</td>\n",
       "</tr>\n",
       "</table>\n",
       "<table class=\"simpletable\">\n",
       "<tr>\n",
       "  <th>Omnibus:</th>       <td> 0.944</td> <th>  Durbin-Watson:     </th> <td>   2.685</td>\n",
       "</tr>\n",
       "<tr>\n",
       "  <th>Prob(Omnibus):</th> <td> 0.624</td> <th>  Jarque-Bera (JB):  </th> <td>   0.660</td>\n",
       "</tr>\n",
       "<tr>\n",
       "  <th>Skew:</th>          <td> 0.092</td> <th>  Prob(JB):          </th> <td>   0.719</td>\n",
       "</tr>\n",
       "<tr>\n",
       "  <th>Kurtosis:</th>      <td> 1.866</td> <th>  Cond. No.          </th> <td>6.51e+17</td>\n",
       "</tr>\n",
       "</table><br/><br/>Notes:<br/>[1] Standard Errors assume that the covariance matrix of the errors is correctly specified.<br/>[2] The smallest eigenvalue is 6.61e-35. This might indicate that there are<br/>strong multicollinearity problems or that the design matrix is singular."
      ],
      "text/plain": [
       "<class 'statsmodels.iolib.summary.Summary'>\n",
       "\"\"\"\n",
       "                            OLS Regression Results                            \n",
       "==============================================================================\n",
       "Dep. Variable:                   Rank   R-squared:                       0.707\n",
       "Model:                            OLS   Adj. R-squared:                  0.540\n",
       "Method:                 Least Squares   F-statistic:                     4.232\n",
       "Date:                Fri, 10 Feb 2023   Prob (F-statistic):             0.0471\n",
       "Time:                        11:51:20   Log-Likelihood:                -24.520\n",
       "No. Observations:                  12   AIC:                             59.04\n",
       "Df Residuals:                       7   BIC:                             61.46\n",
       "Df Model:                           4                                         \n",
       "Covariance Type:            nonrobust                                         \n",
       "=================================================================================\n",
       "                    coef    std err          t      P>|t|      [0.025      0.975]\n",
       "---------------------------------------------------------------------------------\n",
       "const             2.7857      0.302      9.211      0.000       2.071       3.501\n",
       "PhotoF1           2.7262      0.722      3.777      0.007       1.020       4.433\n",
       "PhotoF2           0.0595      0.722      0.082      0.937      -1.647       1.766\n",
       "Ux1               3.0595      0.722      4.239      0.004       1.353       4.766\n",
       "Ux2              -0.2738      0.722     -0.379      0.716      -1.980       1.433\n",
       "SpecialSauce1    -0.0714      1.003     -0.071      0.945      -2.443       2.301\n",
       "SpecialSauce2    -0.8214      1.003     -0.819      0.440      -3.193       1.551\n",
       "SpecialSauce3     3.6786      1.003      3.667      0.008       1.307       6.051\n",
       "==============================================================================\n",
       "Omnibus:                        0.944   Durbin-Watson:                   2.685\n",
       "Prob(Omnibus):                  0.624   Jarque-Bera (JB):                0.660\n",
       "Skew:                           0.092   Prob(JB):                        0.719\n",
       "Kurtosis:                       1.866   Cond. No.                     6.51e+17\n",
       "==============================================================================\n",
       "\n",
       "Notes:\n",
       "[1] Standard Errors assume that the covariance matrix of the errors is correctly specified.\n",
       "[2] The smallest eigenvalue is 6.61e-35. This might indicate that there are\n",
       "strong multicollinearity problems or that the design matrix is singular.\n",
       "\"\"\""
      ]
     },
     "execution_count": 11,
     "metadata": {},
     "output_type": "execute_result"
    }
   ],
   "source": [
    "# Perform a linear regression\n",
    "conjoint_regression = sm.OLS(y, X).fit()\n",
    "conjoint_regression.summary()"
   ]
  },
  {
   "attachments": {},
   "cell_type": "markdown",
   "metadata": {},
   "source": [
    "SpecialSauce3, Ux1, and PhotoF1 are the highest Coefs, and have the highest impact"
   ]
  },
  {
   "cell_type": "code",
   "execution_count": 12,
   "metadata": {},
   "outputs": [
    {
     "data": {
      "text/plain": [
       "[0.388771186440678, 0.323093220338983, 0.288135593220339]"
      ]
     },
     "execution_count": 12,
     "metadata": {},
     "output_type": "execute_result"
    }
   ],
   "source": [
    "raw = [3.67, 3.05, 2.72]\n",
    "norm = [float(i)/sum(raw) for i in raw]\n",
    "norm\n"
   ]
  },
  {
   "cell_type": "code",
   "execution_count": 14,
   "metadata": {},
   "outputs": [
    {
     "data": {
      "text/plain": [
       "(-1.1147511674392567,\n",
       " 1.1127916250115144,\n",
       " -1.2114224402598486,\n",
       " 1.1252953512104866)"
      ]
     },
     "execution_count": 14,
     "metadata": {},
     "output_type": "execute_result"
    },
    {
     "data": {
      "image/png": "[encoded data removed]",
      "text/plain": [
       "<Figure size 432x288 with 1 Axes>"
      ]
     },
     "metadata": {},
     "output_type": "display_data"
    }
   ],
   "source": [
    "# Create a pie chart from the inputs\n",
    "\n",
    "labels = 'Special Sauce Feature 3', 'User Experience Feature 1', 'Photo Feature 1'\n",
    "sizes = [39, 32, 29]\n",
    "colors = ['yellowgreen', 'mediumpurple', 'lightskyblue']\n",
    "explode = (0, 0.1, 0)\n",
    "plt.pie(sizes, \n",
    "        explode=explode, \n",
    "        labels=labels, \n",
    "        colors=colors, \n",
    "        autopct='%1.1f%%', \n",
    "        shadow=True, \n",
    "        startangle=70)\n",
    "\n",
    "plt.axis('equal')"
   ]
  },
  {
   "cell_type": "code",
   "execution_count": null,
   "metadata": {},
   "outputs": [],
   "source": []
  }
 ],
 "metadata": {
  "kernelspec": {
   "display_name": "PythonData",
   "language": "python",
   "name": "python3"
  },
  "language_info": {
   "codemirror_mode": {
    "name": "ipython",
    "version": 3
   },
   "file_extension": ".py",
   "mimetype": "text/x-python",
   "name": "python",
   "nbconvert_exporter": "python",
   "pygments_lexer": "ipython3",
   "version": "3.9.12"
  },
  "orig_nbformat": 4,
  "vscode": {
   "interpreter": {
    "hash": "545cd8b7514befe85d2d4576c8356de54fd5ea004f7372bc00090bcfdc6d1703"
   }
  }
 },
 "nbformat": 4,
 "nbformat_minor": 2
}
